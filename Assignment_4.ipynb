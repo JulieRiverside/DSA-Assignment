{
 "cells": [
  {
   "cell_type": "code",
   "execution_count": null,
   "id": "f82ba672-1216-4b9c-a0eb-867563fd036e",
   "metadata": {},
   "outputs": [],
   "source": [
    "#Q2\n",
    "\n",
    "def max_non_overlap(intervals):\n",
    "    intervals.sort(key=lambda x: x[1])\n",
    "    count = 0\n",
    "    last_end_time = float('-inf')\n",
    "    for start, end in intervals:\n",
    "        if start >= last_end_time:\n",
    "            count += 1\n",
    "            last_end_time = end_time\n",
    "    return count\n"
   ]
  },
  {
   "cell_type": "code",
   "execution_count": null,
   "id": "1c1e8b23-a65c-459e-bdb8-1c7418d1ffce",
   "metadata": {},
   "outputs": [],
   "source": [
    "#Q3\n",
    "\n",
    "def partition_palindrome(dna):\n",
    "    def is_palindrome(start, end):\n",
    "        return dp[start][end]\n",
    "\n",
    "    def backtrack(start, path):\n",
    "        if start == len(dna):\n",
    "            result.append(path[:]) \n",
    "            return\n",
    "    \n",
    "        for end in range(start, len(dna)):\n",
    "            if is_palindrome(start, end):\n",
    "                path.append(dna[start:end+1])\n",
    "                # Recursively partition the rest of the sequence\n",
    "                backtrack(end + 1, path)\n",
    "                # Backtrack by removing the last partition\n",
    "                path.pop()\n",
    "\n",
    "    n = len(dna)  \n",
    "    dp = [[False] * n for _ in range(n)]\n",
    "\n",
    "    for i in range(n):\n",
    "        dp[i][i] = True  \n",
    "    for length in range(2, n+1): \n",
    "        for i in range(n - length + 1):\n",
    "            j = i + length - 1\n",
    "            if dna[i] == dna[j]:\n",
    "                if length == 2 or dp[i+1][j-1]:\n",
    "                    dp[i][j] = True \n",
    "\n",
    "    result = []  \n",
    "    backtrack(0, []) \n",
    "    \n",
    "    return result\n"
   ]
  },
  {
   "cell_type": "code",
   "execution_count": null,
   "id": "6df7a506-1acb-44a5-84ba-d828eb1daea2",
   "metadata": {},
   "outputs": [],
   "source": [
    "#Q1\n",
    "\n",
    "def minimum_fragments(frag, n):\n",
    "    frag.sort(key=lambda x: (x[0], -x[1]))\n",
    "    curr_end = 0 \n",
    "    sel_frag = 0 \n",
    "    i = 0  \n",
    "    max_reach = 0 \n",
    "    while curr_end < n:\n",
    "        while i < len(frag) and frag[i][0] <= curr_end + 1:\n",
    "            max_reach = max(max_reach, frag[i][1])\n",
    "            i += 1\n",
    "        if max_reach <= curr_end:\n",
    "            return -1  \n",
    "        sel_frag += 1\n",
    "        curr_end = max_reach \n",
    "    return sel_frag\n"
   ]
  },
  {
   "cell_type": "code",
   "execution_count": null,
   "id": "32784e3c-4038-4c58-8de6-b2c3b80dec53",
   "metadata": {},
   "outputs": [],
   "source": [
    "#Q4\n",
    "\n",
    "def max_bp(rna):\n",
    "    def can_pair(b1, b2):\n",
    "        return (b1 == 'A' and b2 == 'U') or (b1 == 'U' and b2 == 'A') or \\\n",
    "               (b1 == 'G' and b2 == 'C') or (b1 == 'C' and b2 == 'G')\n",
    "    \n",
    "    n = len(rna)\n",
    "    if n == 0:\n",
    "        return 0\n",
    "        \n",
    "    dp = [[0] * n for _ in range(n)]\n",
    "\n",
    "    for length in range(2, n+1): \n",
    "        for i in range(n - length + 1):\n",
    "            j = i + length - 1\n",
    "            dp[i][j] = dp[i][j-1]\n",
    "            \n",
    "    return dp[0][n-1]   "
   ]
  }
 ],
 "metadata": {
  "kernelspec": {
   "display_name": "Python 3 (ipykernel)",
   "language": "python",
   "name": "python3"
  },
  "language_info": {
   "codemirror_mode": {
    "name": "ipython",
    "version": 3
   },
   "file_extension": ".py",
   "mimetype": "text/x-python",
   "name": "python",
   "nbconvert_exporter": "python",
   "pygments_lexer": "ipython3",
   "version": "3.12.4"
  }
 },
 "nbformat": 4,
 "nbformat_minor": 5
}
